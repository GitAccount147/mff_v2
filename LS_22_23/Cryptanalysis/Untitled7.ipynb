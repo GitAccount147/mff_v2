{
 "cells": [
  {
   "cell_type": "code",
   "execution_count": 1,
   "metadata": {},
   "outputs": [],
   "source": [
    "# Cryptanalysis - Task 5 - Higher order differential attacks - v1\n",
    "\n",
    "# TO-DO:\n",
    "#  - implement the given quadratic permutation\n",
    "\n",
    "# Remarks:\n",
    "\n",
    "size = 2**10\n",
    "P = Permutations(size)\n",
    "p = P.random_element()  # use this for now instead of the given quadratic permutation\n",
    "\n",
    "def feistel(left, right, keys):\n",
    "    l, r = left, right\n",
    "    \n",
    "    for i in range(len(keys)):\n",
    "        after_f = p[r ^^ keys[i]] - 1  # like this?\n",
    "        #after_f = (p[r] - 1) ^^ keys[i]\n",
    "        new_r = l ^^ after_f\n",
    "        l = r\n",
    "        r = new_r\n",
    "    return r, l  # we dont swap the last round\n",
    "    #return l, r  # we dont swap the last round\n",
    "\n",
    "def feistel_inv(left, right, keys):\n",
    "    #return feistel(left, right, keys.reverse())\n",
    "    return feistel(left, right, keys[::-1])"
   ]
  },
  {
   "cell_type": "code",
   "execution_count": null,
   "metadata": {},
   "outputs": [],
   "source": []
  }
 ],
 "metadata": {
  "kernelspec": {
   "display_name": "SageMath 9.2",
   "language": "sage",
   "name": "sagemath"
  },
  "language_info": {
   "codemirror_mode": {
    "name": "ipython",
    "version": 3
   },
   "file_extension": ".py",
   "mimetype": "text/x-python",
   "name": "python",
   "nbconvert_exporter": "python",
   "pygments_lexer": "ipython3",
   "version": "3.7.7"
  }
 },
 "nbformat": 4,
 "nbformat_minor": 4
}
