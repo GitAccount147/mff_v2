{
 "cells": [
  {
   "cell_type": "code",
   "execution_count": 5,
   "metadata": {},
   "outputs": [
    {
     "name": "stdout",
     "output_type": "stream",
     "text": [
      "sqrt of 241 is 15.524174696260024\n",
      "a's: [15, 1, 1, 9, 1, 5]\n",
      "p's: [1, 15, 16, 31, 295, 326, 1925]\n",
      "q's: [0, 1, 1, 2, 19, 21, 124]\n",
      "5 approximations of sqrt(241)\n",
      "15 = 15.0\n",
      "16 = 16.0\n",
      "31/2 = 15.5\n",
      "295/19 = 15.526315789473685\n",
      "326/21 = 15.523809523809524\n",
      "1925/124 = 15.524193548387096\n",
      "Calculations ended.\n"
     ]
    }
   ],
   "source": [
    "# Ciselne algoritmy - DU5 - Josef Sykora\n",
    "#\n",
    "# approximation of sqrt(p) using continued fractions\n",
    "\n",
    "def approximate_sqrt(p, k):\n",
    "    old_R, old_S = 0, 1\n",
    "    g = floor(sqrt(p))\n",
    "    a_s, p_s, q_s = [g], [1, g], [0, 1]\n",
    "    \n",
    "    for i in range(k):\n",
    "        new_R = a_s[-1] * old_S - old_R\n",
    "        new_S = (p - new_R^2)/old_S\n",
    "        \n",
    "        new_a = floor((new_R + g)/new_S)\n",
    "        new_p = new_a * p_s[-1] + p_s[-2]\n",
    "        new_q = new_a * q_s[-1] + q_s[-2]\n",
    "        \n",
    "        a_s.append(new_a)\n",
    "        p_s.append(new_p)\n",
    "        q_s.append(new_q)\n",
    "        \n",
    "        old_R = new_R\n",
    "        old_S = new_S\n",
    "    \n",
    "    return a_s, p_s, q_s\n",
    "\n",
    "\n",
    "# first 5 (6) approximations ~ a_0, ..., a_4, (a_5)\n",
    "# 233 (*), 241, 257, 281, 313, 337, 353 (*), 401 (*), 409 (*), 433, 449, 457, 521\n",
    "\n",
    "# driver code:\n",
    "\n",
    "my_p = 241\n",
    "my_k = 5\n",
    "\n",
    "\n",
    "result_a, result_p, result_q = approximate_sqrt(my_p, my_k)\n",
    "print(\"sqrt of\", my_p, \"is\", float(sqrt(my_p)))\n",
    "print(\"a's:\", result_a)\n",
    "print(\"p's:\", result_p)\n",
    "print(\"q's:\", result_q)\n",
    "print(my_k, \"approximations of\", sqrt(my_p))\n",
    "for i in range(1, my_k + 2):\n",
    "    print(result_p[i]/result_q[i], \"=\", float(result_p[i]/result_q[i]))\n",
    "print(\"Calculations ended.\")\n",
    "\n",
    "# Output:\n",
    "#    sqrt of 241 is 15.524174696260024\n",
    "#    a's: [15, 1, 1, 9, 1, 5]\n",
    "#    p's: [1, 15, 16, 31, 295, 326, 1925]\n",
    "#    q's: [0, 1, 1, 2, 19, 21, 124]\n",
    "#    5 approximations of sqrt(241)\n",
    "#    15 = 15.0\n",
    "#    16 = 16.0\n",
    "#    31/2 = 15.5\n",
    "#    295/19 = 15.526315789473685\n",
    "#    326/21 = 15.523809523809524\n",
    "#    1925/124 = 15.524193548387096"
   ]
  },
  {
   "cell_type": "code",
   "execution_count": null,
   "metadata": {},
   "outputs": [],
   "source": []
  }
 ],
 "metadata": {
  "kernelspec": {
   "display_name": "SageMath 9.2",
   "language": "sage",
   "name": "sagemath"
  },
  "language_info": {
   "codemirror_mode": {
    "name": "ipython",
    "version": 3
   },
   "file_extension": ".py",
   "mimetype": "text/x-python",
   "name": "python",
   "nbconvert_exporter": "python",
   "pygments_lexer": "ipython3",
   "version": "3.7.7"
  }
 },
 "nbformat": 4,
 "nbformat_minor": 4
}
