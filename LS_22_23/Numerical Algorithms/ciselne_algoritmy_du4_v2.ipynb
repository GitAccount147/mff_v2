{
 "cells": [
  {
   "cell_type": "code",
   "execution_count": 11,
   "metadata": {},
   "outputs": [
    {
     "name": "stdout",
     "output_type": "stream",
     "text": [
      "Found factor: 201 368\n",
      "Check: 2 2 2\n",
      "Calculations ended.\n"
     ]
    }
   ],
   "source": [
    "# Ciselne algoritmy - DU4 - Josef Sykora\n",
    "#\n",
    "# Tonelli Shanks for square root\n",
    "\n",
    "def tonelli_shanks(a, p):\n",
    "    e, q = get_e_q(p)\n",
    "    z_0 = randint(1, p - 1)\n",
    "    t = z_0^((p - 1)/2) % p\n",
    "    while t == 1:\n",
    "        z_0 = randint(1, p - 1)\n",
    "        t = z_0^((p - 1)/2) % p\n",
    "    z = z_0^q % p\n",
    "    \n",
    "    y = z\n",
    "    r = e\n",
    "    b = a^q % p\n",
    "    x = a^((q + 1)/2) % p\n",
    "    \n",
    "    m = get_m(b, p)\n",
    "    while m != 0 and m != r:\n",
    "        t = y^(2^(r - m - 1)) % p\n",
    "        y = t^2 % p\n",
    "        r = m\n",
    "        x = x*t % p\n",
    "        b = b*y % p\n",
    "        \n",
    "        m = get_m(b, p)\n",
    "    \n",
    "    if m == 0:\n",
    "        return x % p, -x %p\n",
    "    else:\n",
    "        return \"Not a quadratic residue.\"\n",
    "\n",
    "# get e, q such, that: p=q*2^e, e, q \\in N, q odd\n",
    "def get_e_q(p):\n",
    "    e = 0\n",
    "    q = p - 1\n",
    "    rem = q % 2\n",
    "    \n",
    "    while rem == 0:\n",
    "        q = q // 2\n",
    "        rem = q % 2\n",
    "        e += 1\n",
    "    \n",
    "    return e, q\n",
    "\n",
    "# get smallest m such, that: b^(2^m) = 1 mod p\n",
    "def get_m(b, p):\n",
    "    m = 0\n",
    "    power = b\n",
    "    \n",
    "    while (power % p) != 1:\n",
    "        power = power^2\n",
    "        m += 1\n",
    "        \n",
    "    return m\n",
    "\n",
    "\n",
    "# sqrt(2) mod p = ?\n",
    "# assigned: 569\n",
    "# 233, 241, 257, 281, 313, 337, 353, 401, 409, 433, 449, 457, 521, 569, 577\n",
    "\n",
    "# driver code:\n",
    "my_a, my_p = 2, 569\n",
    "res = tonelli_shanks(my_a, my_p)\n",
    "if type(res) != type(\"Fail\"):\n",
    "    print(\"Found factor:\", res[0], res[1])\n",
    "    print(\"Check:\", my_a, res[0]^2 % my_p, res[1]^2 % my_p)\n",
    "else:\n",
    "    print(res)\n",
    "print(\"Calculations ended.\")"
   ]
  },
  {
   "cell_type": "code",
   "execution_count": null,
   "metadata": {},
   "outputs": [],
   "source": []
  }
 ],
 "metadata": {
  "kernelspec": {
   "display_name": "SageMath 10.0",
   "language": "sage",
   "name": "sagemath-10.0"
  },
  "language_info": {
   "codemirror_mode": {
    "name": "ipython",
    "version": 3
   },
   "file_extension": ".py",
   "mimetype": "text/x-python",
   "name": "python",
   "nbconvert_exporter": "python",
   "pygments_lexer": "ipython3",
   "version": "3.11.1"
  }
 },
 "nbformat": 4,
 "nbformat_minor": 4
}
