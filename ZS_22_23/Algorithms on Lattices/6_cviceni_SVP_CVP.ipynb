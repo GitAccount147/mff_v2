{
 "cells": [
  {
   "cell_type": "code",
   "execution_count": null,
   "metadata": {},
   "outputs": [],
   "source": [
    "# Apart from searching for the smallest vector in a lattice, one can also try to find a closest lattice vector to a random point\n",
    "# Actually these problems are in some sense equally hard (they are reducible to each other)\n",
    "\n",
    "\n",
    "# If we have a CVP oracle, we create lattices of the form (b_1,...,b_i-1, 2*b_i, b_i+1,...,b_n)\n",
    "# find a closest vector to b_i (=x_i) and we choose the shortest among x_i+b_i\n",
    "# such vector is clearly in the lattice\n",
    "# the shortest vector is a linear combination with at least one odd coeficient - say a_i - thus it cannot be in the lattice\n",
    "# (b_1,...,b_i-1, 2*b_i, b_i+1,...,b_n) - the CVP algorithm will return a nonzero vector.\n",
    "\n",
    "# the SVP to CVP is also doable, but not as easy (why closest vector to 0 does not work?)"
   ]
  },
  {
   "cell_type": "code",
   "execution_count": null,
   "metadata": {},
   "outputs": [],
   "source": [
    "# There are numerous algorithms for getting \"short\" lattice vectors \n",
    "# So far it seems, you can get a not so short vector quickly (LLL), or you can get a short vector slowly\n",
    "# This time it will (mostly) be about the second approach"
   ]
  },
  {
   "cell_type": "code",
   "execution_count": 17,
   "metadata": {},
   "outputs": [
    {
     "data": {
      "text/html": [
       "<html><script type=\"math/tex; mode=display\">\\newcommand{\\Bold}[1]{\\mathbf{#1}}\\left(\\begin{array}{rrrrr}\n",
       "5 & 0 & -1 & -1 & 0 \\\\\n",
       "2 & 3 & 0 & -1 & -1 \\\\\n",
       "-1 & 7 & 1 & -4 & 0\n",
       "\\end{array}\\right)</script></html>"
      ],
      "text/plain": [
       "[ 5  0 -1 -1  0]\n",
       "[ 2  3  0 -1 -1]\n",
       "[-1  7  1 -4  0]"
      ]
     },
     "metadata": {},
     "output_type": "display_data"
    },
    {
     "data": {
      "text/html": [
       "<html><script type=\"math/tex; mode=display\">\\newcommand{\\Bold}[1]{\\mathbf{#1}}\\left(\\begin{array}{rrrrr}\n",
       "0 & 1 & 0 & -3 & 2 \\\\\n",
       "2 & 3 & 0 & -1 & -1 \\\\\n",
       "3 & -3 & -1 & 0 & 1\n",
       "\\end{array}\\right)</script></html>"
      ],
      "text/plain": [
       "[ 0  1  0 -3  2]\n",
       "[ 2  3  0 -1 -1]\n",
       "[ 3 -3 -1  0  1]"
      ]
     },
     "metadata": {},
     "output_type": "display_data"
    },
    {
     "name": "stdout",
     "output_type": "stream",
     "text": [
      "3*sqrt(3)\n",
      "sqrt(14)\n",
      "(0, 1, 0, -3, 2)\n",
      "(-2, -3, 0, 1, 1)\n",
      "(0, 0, 0, 0, 0)\n",
      "(0, 1, 0, -3, 2)\n",
      "(2, 2, 0, 2, -3)\n"
     ]
    }
   ],
   "source": [
    "# Enumeration based algorithms\n",
    "\n",
    "# The idea is simple: try all vectors below a given bound. Return the shortest one\n",
    "# Running time usually strongly depends on the given bound. It is a good idea to at least LLL reduce the basis to get a better bound.\n",
    "\n",
    "\n",
    "from sage.modules.free_module_integer import IntegerLattice\n",
    "\n",
    "A = random_matrix(ZZ,3,5)\n",
    "pretty_print(A)\n",
    "L = IntegerLattice(A)\n",
    "B = A.LLL()\n",
    "pretty_print(A.LLL())\n",
    "print (A[0].norm())\n",
    "print (B[0].norm())\n",
    "\n",
    "\n",
    "print (L.shortest_vector())\n",
    "\n",
    "\n",
    "\n",
    "# a very simple implementation can look like this\n",
    "\n",
    "R = rank(A)\n",
    "bound = floor(B[0].norm())\n",
    "\n",
    "\n",
    "# actually looking at a hypercube and not a hypersphere\n",
    "# could thus be optimized\n",
    "# moreover we could be using group symmetries to further speed up the search\n",
    "\n",
    "# (if v in L, then -v in L)\n",
    "test_vectors = cartesian_product([range(-bound,bound)]*5)\n",
    "\n",
    "for vec in test_vectors:\n",
    "    # if vec.norm() > bound:\n",
    "    #    continue\n",
    "    if rank(B.stack(vector(vec))) == R:\n",
    "        print (vec)\n",
    "\n",
    "        \n",
    "# and we should also keep our best current bound\n",
    "# and only to the gaussian elimination for shorter vectors\n",
    "\n"
   ]
  },
  {
   "cell_type": "code",
   "execution_count": null,
   "metadata": {},
   "outputs": [],
   "source": [
    "# The above is not too bad for (nearly) full rank lattices\n",
    "# However, its efficiency is abysmal - imagine a 2-dimensional lattice in a 120-dimensional space\n",
    "# solution can be found efficiently by LLL, however, the above_style enumeration, would run very slowly\n",
    "\n",
    "# fortunately it is not too hard to adapt enumeration even to this case\n",
    "# we will not be bruteforcing coordinates, but the coefficients of linear combinations of basis vectors\n",
    "# these can actually be bounded, so the algorithm is well defined\n",
    "# (e.g. https://www.iacr.org/archive/eurocrypt2010/66320257/66320257.pdf)"
   ]
  },
  {
   "cell_type": "code",
   "execution_count": 18,
   "metadata": {},
   "outputs": [
    {
     "data": {
      "text/html": [
       "<html><script type=\"math/tex; mode=display\">\\newcommand{\\Bold}[1]{\\mathbf{#1}}\\left(\\begin{array}{rrrrr}\n",
       "0 & 15 & 1 & 1 & -10 \\\\\n",
       "1 & 1 & -3 & -1 & 1 \\\\\n",
       "-2 & 0 & 0 & -1 & 3\n",
       "\\end{array}\\right)</script></html>"
      ],
      "text/plain": [
       "[  0  15   1   1 -10]\n",
       "[  1   1  -3  -1   1]\n",
       "[ -2   0   0  -1   3]"
      ]
     },
     "metadata": {},
     "output_type": "display_data"
    },
    {
     "data": {
      "text/html": [
       "<html><script type=\"math/tex; mode=display\">\\newcommand{\\Bold}[1]{\\mathbf{#1}}\\left(\\begin{array}{rrrrr}\n",
       "1 & 1 & -3 & -1 & 1 \\\\\n",
       "-2 & 0 & 0 & -1 & 3 \\\\\n",
       "-4 & 15 & 1 & -1 & -4\n",
       "\\end{array}\\right)</script></html>"
      ],
      "text/plain": [
       "[ 1  1 -3 -1  1]\n",
       "[-2  0  0 -1  3]\n",
       "[-4 15  1 -1 -4]"
      ]
     },
     "metadata": {},
     "output_type": "display_data"
    },
    {
     "name": "stdout",
     "output_type": "stream",
     "text": [
      "sqrt(327)\n",
      "sqrt(13)\n",
      "[(5, 14, 4, 5, -20), (6, 4, -12, -3, 1), (4, -2, 6, 5, -11), (-9, -14, -4, -7, 26), (2, 2, -6, -2, 2), (-1, -1, 3, 1, -1), (-4, 15, 1, -1, -4), (2, 2, -6, -2, 2), (12, -11, -13, -1, 2), (-9, 12, 10, 1, -4), (-1, -18, 8, 3, 4), (-1, -5, 15, 7, -11), (7, 1, -3, 2, -8), (3, 14, 4, 4, -17), (-2, 17, -5, -3, -2), (2, 4, -12, -5, 7), (10, -13, -7, 1, 0), (2, -13, -7, -3, 12), (1, -3, 9, 5, -9), (-8, 2, -6, -7, 17), (-4, 11, 13, 5, -14), (-2, -2, 6, 2, -2), (-1, -3, 9, 4, -6), (-4, 0, 0, -2, 6), (7, -3, 9, 8, -18), (4, 2, -6, -1, -1), (7, 5, -15, -4, 2), (3, 3, -9, -3, 3), (3, -1, 3, 3, -7), (11, 1, -3, 4, -14), (3, -1, 3, 3, -7), (3, 3, -9, -3, 3)]\n",
      "[(2, 0, 0, 1, -3), (9, 3, -9, 0, -6), (4, 2, -6, -1, -1), (-1, 3, -9, -5, 9), (4, 0, 0, 2, -6), (2, 2, -6, -2, 2), (-1, -1, 3, 1, -1), (3, 1, -3, 0, -2), (5, -1, 3, 4, -10), (5, 3, -9, -2, 0), (-3, -3, 9, 3, -3), (6, 0, 0, 3, -9), (5, 1, -3, 1, -5), (-3, 1, -3, -3, 7), (1, -1, 3, 2, -4), (-7, -3, 9, 1, 3), (-4, -2, 6, 1, 1), (3, 3, -9, -3, 3), (-5, 1, -3, -4, 10), (0, -2, 6, 3, -5), (4, 4, -12, -4, 4), (6, 2, -6, 0, -4), (-2, 0, 0, -1, 3), (-5, -3, 9, 2, 0), (-8, -2, 6, -1, 7), (-2, 2, -6, -4, 8), (1, 1, -3, -1, 1), (0, 2, -6, -3, 5), (3, -1, 3, 3, -7), (-4, -4, 12, 4, -4), (-4, 0, 0, -2, 6), (-7, 1, -3, -5, 13), (-2, -2, 6, 2, -2), (10, 2, -6, 2, -10), (1, -3, 9, 5, -9), (8, 2, -6, 1, -7), (6, 4, -12, -3, 1), (8, 4, -12, -2, -2), (4, -2, 6, 5, -11), (7, -1, 3, 5, -13), (7, 3, -9, -1, -3), (-5, -1, 3, -1, 5), (-1, 1, -3, -2, 4), (8, 0, 0, 4, -12), (-10, -2, 6, -2, 10), (-8, 0, 0, -4, 12), (-3, -1, 3, 0, 2), (2, -2, 6, 4, -8), (-6, -4, 12, 3, -1), (-6, 0, 0, -3, 9), (-4, 2, -6, -5, 11), (-9, -3, 9, 0, 6), (-8, -4, 12, 2, 2), (-6, -2, 6, 0, 4), (1, 3, -9, -4, 6), (-1, -3, 9, 4, -6)]\n",
      "[(-2, -2, 6, 2, -2), (-2, 0, 0, -1, 3), (3, 1, -3, 0, -2), (-1, -1, 3, 1, -1), (-4, 0, 0, -2, 6), (-3, -1, 3, 0, 2), (1, 1, -3, -1, 1), (2, 2, -6, -2, 2), (-4, -2, 6, 1, 1), (4, 0, 0, 2, -6), (1, -1, 3, 2, -4), (-1, 1, -3, -2, 4), (4, 2, -6, -1, -1), (5, 1, -3, 1, -5), (2, 0, 0, 1, -3), (-5, -1, 3, -1, 5)]\n",
      "[(-1, -1, 3, 1, -1), (2, 0, 0, 1, -3), (1, 1, -3, -1, 1), (-2, 0, 0, -1, 3)]\n",
      "[]\n",
      "(1, 1, -3, -1, 1)\n"
     ]
    }
   ],
   "source": [
    "# Sieving algorithms\n",
    "\n",
    "# consist of 2 steps\n",
    "# 1. collect random vectors\n",
    "# 2. recombine them into vectors of smaller norm\n",
    "# (simple, as a lattice is a group)\n",
    "\n",
    "# a simple implementation could look like this\n",
    "\n",
    "# sage has uniq function, but it does not work on \"mutable vectors\", so we need to write our own\n",
    "def remove_duplicates(l):\n",
    "    new = []\n",
    "    for v in l:\n",
    "        if v not in new:\n",
    "            new.append(v)\n",
    "    return new\n",
    "\n",
    "\n",
    "A = random_matrix(ZZ,3,5)\n",
    "pretty_print(A)\n",
    "L = IntegerLattice(A)\n",
    "B = A.LLL()\n",
    "pretty_print(A.LLL())\n",
    "print (A[0].norm())\n",
    "print (B[0].norm())\n",
    "\n",
    "# sage implements a sampling procedure\n",
    "from sage.stats.distributions.discrete_gaussian_lattice import DiscreteGaussianDistributionLatticeSampler\n",
    "\n",
    "D = DiscreteGaussianDistributionLatticeSampler(A, 10.0)\n",
    "\n",
    "samples = [D() for _ in range(2^5)]\n",
    "\n",
    "print(samples)\n",
    "\n",
    "bound = max([v.norm() for v in samples])/2\n",
    "\n",
    "while len(samples) > 1:\n",
    "    samples = [v1-v2 for v1 in samples for v2 in samples if (v1-v2).norm() < bound and v1 != v2]\n",
    "    samples = remove_duplicates(samples)\n",
    "    #samples = [sample for sample in samples if sample[0]>=0]\n",
    "    print(samples)\n",
    "    bound /= 2\n",
    "    \n",
    "    \n",
    "print (L.shortest_vector())   \n",
    "\n",
    "\n",
    "\n"
   ]
  },
  {
   "cell_type": "code",
   "execution_count": null,
   "metadata": {},
   "outputs": [],
   "source": [
    "# So far can either get very short vectors in a long time, or not so short vectors quickly\n",
    "# Thus we have 2 sets of algorithms\n",
    "# However, we can combine these\n",
    "\n",
    "# BKZ algorithm (blockwise Korkine-Zolotarev)\n",
    "\n",
    "# The idea - SVP algorithms scale exponentially with the lattice dimensions\n",
    "# but at low dimensions, they are reasonably fast\n",
    "# The LLL algorithm progressively reduces vectors, one by another\n",
    "# But we can take larger sets of vectors, and find the shortest one\n",
    "\n",
    "# depending on the tuning of parameters, the quality of the basis, and the running time varies greatly\n",
    "# in practice, the bases are much better than LLL\n",
    "# still maintains polynomial running time\n",
    "# (nevertheless it is slower than LLL)\n",
    "\n",
    "# comparison\n",
    "\n",
    "# LLL:\n",
    "# compute Gram-Schmite vectors\n",
    "# while improving_the_basis:\n",
    "#   for every_basis_vector:\n",
    "#      if can_be_improved_by_another_basis_vector:\n",
    "#        improve_vector\n",
    "\n",
    "# BKZ:\n",
    "# while improving_the_basis:\n",
    "#   for every_base_partition:\n",
    "#      compute_SVP\n",
    "#      improve_partition\n",
    "\n"
   ]
  },
  {
   "cell_type": "code",
   "execution_count": null,
   "metadata": {},
   "outputs": [],
   "source": [
    "# For CVP, one of the most well known algorithms is the Babai's nearest plane algorithm\n",
    "# It is actually similar to LLL (also regarding the quality of solution, and time requirements)"
   ]
  },
  {
   "cell_type": "code",
   "execution_count": null,
   "metadata": {},
   "outputs": [],
   "source": [
    "# Input: B - a lattice, t - a vector\n",
    "# 1. LLL reduce the basis\n",
    "# 2. b  <- t\n",
    "#    for base_vector in lattice_basis:\n",
    "#        c <- <b, base_vector>/<base_vector, base_vector>\n",
    "#        b <- b - c*base_vector\n",
    "\n",
    "# What happens in the second step?\n"
   ]
  }
 ],
 "metadata": {
  "kernelspec": {
   "display_name": "SageMath 9.3",
   "language": "sage",
   "name": "sagemath"
  },
  "language_info": {
   "codemirror_mode": {
    "name": "ipython",
    "version": 3
   },
   "file_extension": ".py",
   "mimetype": "text/x-python",
   "name": "python",
   "nbconvert_exporter": "python",
   "pygments_lexer": "ipython3",
   "version": "3.7.10"
  }
 },
 "nbformat": 4,
 "nbformat_minor": 4
}
