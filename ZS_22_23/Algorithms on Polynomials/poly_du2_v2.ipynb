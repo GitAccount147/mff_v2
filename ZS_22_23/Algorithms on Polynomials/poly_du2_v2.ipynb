{
 "cells": [
  {
   "cell_type": "code",
   "execution_count": 2,
   "metadata": {},
   "outputs": [
    {
     "name": "stdout",
     "output_type": "stream",
     "text": [
      "True\n"
     ]
    }
   ],
   "source": [
    "# Algebraic algortihms - HW 1 - Computatinal part\n",
    "# 1) Implement Berlekamps algorithm: using functions get_ker_basis()\n",
    "\n",
    "q = 3 # arbitrary choice\n",
    "R.<x> = PolynomialRing(GF(q))\n",
    "\n",
    "# get basis of the nullspace characterized by polynomial f\n",
    "def get_ker_basis(f):\n",
    "    n = f.degree()\n",
    "    residuals = []\n",
    "    for i in range(n):\n",
    "        e = x^(i * q)\n",
    "        res = (e % f).list()\n",
    "        residuals.append(res + [0 for _ in range(n - len(res))])\n",
    "    M = (matrix(GF(q), residuals)).T - matrix.identity(n)\n",
    "    return ((M.T).kernel()).basis()\n",
    "\n",
    "# get factors of a polynomial using a basis\n",
    "def get_factors(f, basis):\n",
    "    factors = [f]\n",
    "    m = len(basis)\n",
    "    i = 1\n",
    "    while len(factors) < m:\n",
    "        new_factors = []\n",
    "        h = R(list(basis[i]))\n",
    "        for j in range(len(factors)):\n",
    "            g = factors[j] # exchange to pop()\n",
    "            non_unital = []\n",
    "            for a in enumerate(GF(q)):\n",
    "                g_fac = gcd(h - a[0], g)\n",
    "                if g_fac != 1:  #  and g_fac != g\n",
    "                    non_unital.append(g_fac)\n",
    "            new_factors += non_unital\n",
    "        factors = new_factors\n",
    "        i += 1\n",
    "    return factors\n",
    "\n",
    "# factor a polynomial - Berlekamps algorithm\n",
    "def berlekamp(f):\n",
    "    basis = get_ker_basis(f)\n",
    "    factors = get_factors(f, basis)\n",
    "    if len(factors) == 0:\n",
    "        return f\n",
    "    return factors\n",
    "\n",
    "# test the implementation of Berlekamps algorithm for random inputs\n",
    "def test_berlekamp(min_deg, max_deg, iterations):\n",
    "    correct = True\n",
    "    wrong_poly = []\n",
    "    for _ in range(iterations):\n",
    "        h = R.random_element(degree=(min_deg, max_deg))\n",
    "        if gcd(h, h.derivative()) == 1 and h.lc() == 1:\n",
    "            built_in = h.factor()\n",
    "            mine = berlekamp(h)\n",
    "            bi_list = [list(built_in)[i][0] for i in range(len(built_in))]\n",
    "            bi_set = set(bi_list)\n",
    "            mine_set = set(mine)\n",
    "            if bi_set != mine_set:\n",
    "                correct = False\n",
    "                wrong_poly.append(h)\n",
    "    return correct, wrong_poly\n",
    "\n",
    "# driver code:\n",
    "min_deg, max_deg, iterations = 2, 20, 1000\n",
    "print(test_berlekamp(min_deg, max_deg, iterations)[0])"
   ]
  },
  {
   "cell_type": "code",
   "execution_count": null,
   "metadata": {},
   "outputs": [],
   "source": []
  }
 ],
 "metadata": {
  "kernelspec": {
   "display_name": "SageMath 9.2",
   "language": "sage",
   "name": "sagemath"
  },
  "language_info": {
   "codemirror_mode": {
    "name": "ipython",
    "version": 3
   },
   "file_extension": ".py",
   "mimetype": "text/x-python",
   "name": "python",
   "nbconvert_exporter": "python",
   "pygments_lexer": "ipython3",
   "version": "3.7.7"
  }
 },
 "nbformat": 4,
 "nbformat_minor": 4
}
