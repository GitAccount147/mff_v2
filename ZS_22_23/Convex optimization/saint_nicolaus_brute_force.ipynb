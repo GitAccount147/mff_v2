{
 "cells": [
  {
   "cell_type": "code",
   "execution_count": 9,
   "metadata": {},
   "outputs": [
    {
     "name": "stdout",
     "output_type": "stream",
     "text": [
      "improved to: 1 with choice: [0]\n",
      "improved to: 2 with choice: [1]\n",
      "improved to: 4 with choice: [2]\n",
      "improved to: 6 with choice: [3]\n",
      "improved to: 7 with choice: [5]\n",
      "improved to: 8 with choice: [7]\n",
      "improved to: 9 with choice: [9]\n",
      "improved to: 10 with choice: [11]\n",
      "improved to: 11 with choice: [0, 11]\n",
      "improved to: 12 with choice: [1, 11]\n",
      "improved to: 13 with choice: [2, 9]\n",
      "improved to: 14 with choice: [2, 11]\n",
      "improved to: 15 with choice: [3, 9]\n",
      "improved to: 16 with choice: [3, 11]\n",
      "improved to: 17 with choice: [5, 11]\n",
      "improved to: 18 with choice: [7, 11]\n",
      "improved to: 19 with choice: [9, 11]\n",
      "improved to: 20 with choice: [11, 12]\n",
      "improved to: 21 with choice: [0, 11, 12]\n",
      "improved to: 22 with choice: [1, 11, 12]\n",
      "improved to: 23 with choice: [2, 9, 11]\n",
      "improved to: 24 with choice: [0, 2, 9, 11]\n",
      "improved to: 25 with choice: [0, 1, 2, 7, 11]\n",
      "possible best choice [0, 1, 2, 7, 11]\n"
     ]
    }
   ],
   "source": [
    "weight = [0.2, 0.6, 1.5, 2.55, 2.65, 3.15, 3.2, 3.35, 3.55, 3.95, 4.1, 4.3, 4.55]\n",
    "importance = [1, 2, 4, 6, 6, 7, 7, 8, 8, 9, 9, 10, 10]\n",
    "a = [0, 1, 2, 3, 4, 5, 6, 7, 8, 9, 10, 11, 12]\n",
    "S = Subsets(a, submultiset=True)\n",
    "poss = S.list()\n",
    "bag_max = 10\n",
    "curr_max = 0\n",
    "for i in range(len(poss)):\n",
    "    choice = poss[i]\n",
    "    bag = 0\n",
    "    greatness = 0\n",
    "    for j in range(len(choice)):\n",
    "        bag += weight[choice[j]]\n",
    "        greatness += importance[choice[j]]\n",
    "    if bag <= bag_max:\n",
    "        if greatness > curr_max:\n",
    "            print(\"improved to:\", greatness, \"with choice:\", choice)\n",
    "            curr_max = greatness\n",
    "\n",
    "for i in range(len(poss)):\n",
    "    choice = poss[i]\n",
    "    bag = 0\n",
    "    greatness = 0\n",
    "    for j in range(len(choice)):\n",
    "        bag += weight[choice[j]]\n",
    "        greatness += importance[choice[j]]\n",
    "    if bag <= bag_max:\n",
    "        if greatness == curr_max:\n",
    "            print(\"possible best choice\", choice)\n",
    "            #curr_max = greatness\n",
    "\n",
    "#print(curr_max)\n",
    "\n",
    "#print(S.cardinality())\n",
    "#print(S.list())\n",
    "#print(len(weight), len(importance))\n",
    "#print(Subsets(weight))"
   ]
  }
 ],
 "metadata": {
  "kernelspec": {
   "display_name": "SageMath 9.2",
   "language": "sage",
   "name": "sagemath"
  },
  "language_info": {
   "codemirror_mode": {
    "name": "ipython",
    "version": 3
   },
   "file_extension": ".py",
   "mimetype": "text/x-python",
   "name": "python",
   "nbconvert_exporter": "python",
   "pygments_lexer": "ipython3",
   "version": "3.7.7"
  }
 },
 "nbformat": 4,
 "nbformat_minor": 4
}
